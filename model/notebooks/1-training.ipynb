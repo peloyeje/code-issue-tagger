{
 "cells": [
  {
   "cell_type": "code",
   "execution_count": 1,
   "metadata": {},
   "outputs": [],
   "source": [
    "import pathlib\n",
    "import pickle\n",
    "import string\n",
    "import sys\n",
    "import re\n",
    "\n",
    "import numpy as np\n",
    "import pandas as pd"
   ]
  },
  {
   "cell_type": "code",
   "execution_count": 2,
   "metadata": {},
   "outputs": [],
   "source": [
    "import torch\n",
    "import torch.nn.functional as F"
   ]
  },
  {
   "cell_type": "code",
   "execution_count": 3,
   "metadata": {},
   "outputs": [],
   "source": [
    "current_dir = pathlib.Path('.').resolve().parent\n",
    "sys.path.append(str(current_dir))"
   ]
  },
  {
   "cell_type": "code",
   "execution_count": 4,
   "metadata": {},
   "outputs": [],
   "source": [
    "from src.dataset import Dataset\n",
    "from src.trainer import Trainer\n",
    "from src.models.convolution import ConvModel"
   ]
  },
  {
   "cell_type": "code",
   "execution_count": null,
   "metadata": {},
   "outputs": [],
   "source": [
    "dataset = Dataset(vocabulary='../output/vocabulary.pkl',\n",
    "                  tags='../output/tags.pkl',\n",
    "                  dataset='../output/processed.sample.csv.gz')"
   ]
  },
  {
   "cell_type": "code",
   "execution_count": null,
   "metadata": {},
   "outputs": [],
   "source": [
    "params = {'batch_size': 128,\n",
    "          'shuffle': True,\n",
    "          'num_workers': 4}\n",
    "\n",
    "data_gen = torch.utils.data.DataLoader(dataset, **params)"
   ]
  },
  {
   "cell_type": "code",
   "execution_count": null,
   "metadata": {},
   "outputs": [],
   "source": [
    "model = ConvModel(embedding_dim=32, vocab_size=len(dataset._embedder._vocabulary), seq_len=dataset.pad)\n",
    "optimizer = torch.optim.Adam(model.parameters(),lr=0.001, weight_decay=0)\n",
    "loss_fn = torch.nn.BCEWithLogitsLoss()"
   ]
  },
  {
   "cell_type": "code",
   "execution_count": null,
   "metadata": {},
   "outputs": [],
   "source": [
    "trainer = Trainer(network=model, optimizer=optimizer, loss=loss_fn)"
   ]
  },
  {
   "cell_type": "code",
   "execution_count": null,
   "metadata": {},
   "outputs": [],
   "source": [
    "trainer.train(input_loader=data_gen, n_epochs=2)"
   ]
  },
  {
   "cell_type": "code",
   "execution_count": 12,
   "metadata": {},
   "outputs": [
    {
     "data": {
      "text/plain": [
       "ConvModel(\n",
       "  (embeddings): ScaledEmbedding(10000, 32)\n",
       "  (conv1): Conv1d(32, 64, kernel_size=(3,), stride=(1,), padding=(1,))\n",
       "  (conv2): Conv1d(64, 32, kernel_size=(5,), stride=(1,), padding=(2,))\n",
       "  (mp1): MaxPool1d(kernel_size=2, stride=2, padding=0, dilation=1, ceil_mode=False)\n",
       "  (mp2): MaxPool1d(kernel_size=2, stride=2, padding=0, dilation=1, ceil_mode=False)\n",
       "  (fc1): Linear(in_features=1984, out_features=1024, bias=True)\n",
       "  (fc2): Linear(in_features=1024, out_features=100, bias=True)\n",
       ")"
      ]
     },
     "execution_count": 12,
     "metadata": {},
     "output_type": "execute_result"
    }
   ],
   "source": [
    "from src.models.convolution import ConvModel\n",
    "from src.tagger import Tagger\n",
    "\n",
    "model = ConvModel(embedding_dim=32, vocab_size=10000, seq_len=250)\n",
    "\n",
    "with open('../output/model.pkl', 'rb') as f:\n",
    "    model.load_state_dict(torch.load(f, map_location='cpu'))\n",
    "\n",
    "model.eval()"
   ]
  },
  {
   "cell_type": "code",
   "execution_count": 13,
   "metadata": {},
   "outputs": [],
   "source": [
    "tagger = Tagger('../output/vocabulary.pkl', '../output/tags.pkl')"
   ]
  },
  {
   "cell_type": "code",
   "execution_count": 14,
   "metadata": {},
   "outputs": [],
   "source": [
    "tagger.register_trained_model(ConvModel, '../output/model.pkl', embedding_dim=32, vocab_size=10000, seq_len=250)"
   ]
  },
  {
   "cell_type": "code",
   "execution_count": 15,
   "metadata": {},
   "outputs": [
    {
     "data": {
      "text/plain": [
       "array([[-19.064157 ,  -3.9674811,  -3.1815257,  -4.571185 ,  -3.10343  ,\n",
       "         -3.4125044,  -1.6382846,  -2.028486 ,  -6.2389565,  -6.513911 ,\n",
       "         -3.0123672,  -5.2532845,  -3.8068266,  -5.5408993,  -7.1865926,\n",
       "         -4.8517094,  -4.8548346,  -6.3721204,  -6.8400273,  -4.220871 ,\n",
       "         -3.871672 ,  -4.082539 ,  -7.3245077,  -6.656459 ,  -5.599983 ,\n",
       "         -4.4831676,  -5.07969  ,  -3.8734856,  -8.289972 ,  -4.4749093,\n",
       "         -5.6665516,  -5.2264657,  -3.9710698,  -5.947859 ,  -6.594405 ,\n",
       "         -6.4984484,  -8.301108 ,  -5.675887 ,  -6.159503 ,  -5.7758727,\n",
       "         -6.690189 ,  -5.0172095,  -7.0990715,  -6.1434946,  -7.5694423,\n",
       "         -5.397152 ,  -4.036919 ,  -6.4244895,  -7.4717255,  -6.8372717,\n",
       "         -6.245531 ,  -7.3477283,  -5.2969294,  -4.936797 ,  -8.215247 ,\n",
       "         -6.2334595,  -5.43516  ,  -7.2845693,  -6.920402 ,  -7.850501 ,\n",
       "         -6.3050585,  -6.9365153,  -9.779724 ,  -7.484503 ,  -8.781606 ,\n",
       "         -5.6009164,  -5.1778197,  -7.3600187,  -6.2094865,  -7.966188 ,\n",
       "         -8.617199 ,  -6.0633974,  -8.457499 ,  -7.559165 ,  -6.108731 ,\n",
       "         -8.047193 ,  -6.451418 ,  -7.1421638,  -6.4262094,  -4.886852 ,\n",
       "         -6.395653 ,  -8.106159 ,  -6.5389223,  -6.3148136,  -6.001612 ,\n",
       "         -7.4579296,  -7.3003025,  -9.11607  ,  -6.226486 ,  -7.8207498,\n",
       "         -6.77084  ,  -7.5665526,  -9.851036 ,  -8.040093 ,  -6.3264146,\n",
       "         -4.687755 ,  -6.6289625,  -4.952436 ,  -7.2093515,  -6.9010806]],\n",
       "      dtype=float32)"
      ]
     },
     "execution_count": 15,
     "metadata": {},
     "output_type": "execute_result"
    }
   ],
   "source": [
    "tagger.predict(string='javascript is super fun I like it')"
   ]
  },
  {
   "cell_type": "code",
   "execution_count": 16,
   "metadata": {},
   "outputs": [],
   "source": [
    "res = _"
   ]
  },
  {
   "cell_type": "code",
   "execution_count": 17,
   "metadata": {},
   "outputs": [
    {
     "data": {
      "text/plain": [
       "array([-19.064157 ,  -3.9674811,  -3.1815257,  -4.571185 ,  -3.10343  ,\n",
       "        -3.4125044,  -1.6382846,  -2.028486 ,  -6.2389565,  -6.513911 ,\n",
       "        -3.0123672,  -5.2532845,  -3.8068266,  -5.5408993,  -7.1865926,\n",
       "        -4.8517094,  -4.8548346,  -6.3721204,  -6.8400273,  -4.220871 ,\n",
       "        -3.871672 ,  -4.082539 ,  -7.3245077,  -6.656459 ,  -5.599983 ,\n",
       "        -4.4831676,  -5.07969  ,  -3.8734856,  -8.289972 ,  -4.4749093,\n",
       "        -5.6665516,  -5.2264657,  -3.9710698,  -5.947859 ,  -6.594405 ,\n",
       "        -6.4984484,  -8.301108 ,  -5.675887 ,  -6.159503 ,  -5.7758727,\n",
       "        -6.690189 ,  -5.0172095,  -7.0990715,  -6.1434946,  -7.5694423,\n",
       "        -5.397152 ,  -4.036919 ,  -6.4244895,  -7.4717255,  -6.8372717,\n",
       "        -6.245531 ,  -7.3477283,  -5.2969294,  -4.936797 ,  -8.215247 ,\n",
       "        -6.2334595,  -5.43516  ,  -7.2845693,  -6.920402 ,  -7.850501 ,\n",
       "        -6.3050585,  -6.9365153,  -9.779724 ,  -7.484503 ,  -8.781606 ,\n",
       "        -5.6009164,  -5.1778197,  -7.3600187,  -6.2094865,  -7.966188 ,\n",
       "        -8.617199 ,  -6.0633974,  -8.457499 ,  -7.559165 ,  -6.108731 ,\n",
       "        -8.047193 ,  -6.451418 ,  -7.1421638,  -6.4262094,  -4.886852 ,\n",
       "        -6.395653 ,  -8.106159 ,  -6.5389223,  -6.3148136,  -6.001612 ,\n",
       "        -7.4579296,  -7.3003025,  -9.11607  ,  -6.226486 ,  -7.8207498,\n",
       "        -6.77084  ,  -7.5665526,  -9.851036 ,  -8.040093 ,  -6.3264146,\n",
       "        -4.687755 ,  -6.6289625,  -4.952436 ,  -7.2093515,  -6.9010806],\n",
       "      dtype=float32)"
      ]
     },
     "execution_count": 17,
     "metadata": {},
     "output_type": "execute_result"
    }
   ],
   "source": [
    "res.reshape(100)"
   ]
  },
  {
   "cell_type": "code",
   "execution_count": 18,
   "metadata": {},
   "outputs": [
    {
     "data": {
      "text/plain": [
       "{'java': -3.9674811,\n",
       " 'json': -3.871672,\n",
       " 'ajax': -3.8734856,\n",
       " 'asp.net': -3.8068266,\n",
       " 'php': -3.10343,\n",
       " 'python': -3.4125044,\n",
       " 'jquery': -1.6382846,\n",
       " 'html': -2.028486,\n",
       " 'c#': -3.1815257,\n",
       " 'css': -3.0123672}"
      ]
     },
     "execution_count": 18,
     "metadata": {},
     "output_type": "execute_result"
    }
   ],
   "source": [
    "tagger.decrypt_top_tags(target=res.reshape(100))"
   ]
  }
 ],
 "metadata": {
  "kernelspec": {
   "display_name": "deep-learning",
   "language": "python",
   "name": "deep-learning"
  },
  "language_info": {
   "codemirror_mode": {
    "name": "ipython",
    "version": 3
   },
   "file_extension": ".py",
   "mimetype": "text/x-python",
   "name": "python",
   "nbconvert_exporter": "python",
   "pygments_lexer": "ipython3",
   "version": "3.7.0"
  }
 },
 "nbformat": 4,
 "nbformat_minor": 2
}
