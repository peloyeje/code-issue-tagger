{
 "cells": [
  {
   "cell_type": "code",
   "execution_count": null,
   "metadata": {},
   "outputs": [],
   "source": [
    "import pathlib\n",
    "import pickle\n",
    "import string\n",
    "import sys\n",
    "import re\n",
    "\n",
    "import numpy as np\n",
    "import pandas as pd"
   ]
  },
  {
   "cell_type": "code",
   "execution_count": null,
   "metadata": {},
   "outputs": [],
   "source": [
    "import torch\n",
    "import torch.nn.functional as F"
   ]
  },
  {
   "cell_type": "code",
   "execution_count": null,
   "metadata": {},
   "outputs": [],
   "source": [
    "current_dir = pathlib.Path('.').parent.resolve()\n",
    "sys.path.append(current_dir)"
   ]
  },
  {
   "cell_type": "code",
   "execution_count": null,
   "metadata": {},
   "outputs": [],
   "source": [
    "from src.dataset import Dataset"
   ]
  },
  {
   "cell_type": "code",
   "execution_count": null,
   "metadata": {},
   "outputs": [],
   "source": [
    "dataset = Dataset(vocabulary='output/vocabulary.pkl',\n",
    "                  tags='output/tags.pkl',\n",
    "                  dataset='output/processed.csv.gz')\n",
    "\n",
    "dataset.set_options(max_length=250)"
   ]
  },
  {
   "cell_type": "code",
   "execution_count": null,
   "metadata": {},
   "outputs": [],
   "source": [
    "params = {'batch_size': 64,\n",
    "          'shuffle': True,\n",
    "          'num_workers': 4}\n",
    "\n",
    "data_gen = torch.utils.data.DataLoader(dataset, **params)"
   ]
  },
  {
   "cell_type": "code",
   "execution_count": null,
   "metadata": {},
   "outputs": [],
   "source": [
    "class ScaledEmbedding(torch.nn.Embedding):\n",
    "    \"\"\"\n",
    "    Embedding layer that initialises its values\n",
    "    to using a normal variable scaled by the inverse\n",
    "    of the embedding dimension.\n",
    "    \"\"\"\n",
    "\n",
    "    def reset_parameters(self):\n",
    "        \"\"\"\n",
    "        Initialize parameters.\n",
    "        \"\"\"\n",
    "\n",
    "        self.weight.data.normal_(0, 1.0 / self.embedding_dim)\n",
    "        if self.padding_idx is not None:\n",
    "            self.weight.data[self.padding_idx].fill_(0)"
   ]
  },
  {
   "cell_type": "code",
   "execution_count": null,
   "metadata": {},
   "outputs": [],
   "source": [
    "class ConvModel(torch.nn.Module):\n",
    "    def __init__(self, \n",
    "                 embedding_dim=128, \n",
    "                 vocab_size=10000, \n",
    "                 seq_len=250):\n",
    "        super(ConvModel,self).__init__()\n",
    "\n",
    "        self._embedding_dim = embedding_dim\n",
    "        self._vocab_size = vocab_size\n",
    "        self._seq_len = seq_len\n",
    "        \n",
    "        self.embeddings = ScaledEmbedding(self._vocab_size, self._embedding_dim)\n",
    "        self.conv = torch.nn.Conv1d(self._embedding_dim, 64, 5, padding=2)\n",
    "        self.mp = torch.nn.MaxPool1d(2)\n",
    "        self.fc1 = torch.nn.Linear(125 * 64, 2048)\n",
    "        self.fc2 = torch.nn.Linear(2048, 1024)\n",
    "        self.fc3 = torch.nn.Linear(1024, 1000)\n",
    "\n",
    "    def forward(self, words_id):\n",
    "        words_embedding = self.embeddings(words_id).permute(0,2,1)\n",
    "        x = F.dropout(words_embedding, 0.2)\n",
    "        x = self.conv(x)\n",
    "        x = F.relu(x)\n",
    "        x = F.dropout(x, 0.2)\n",
    "        x = self.mp(x)\n",
    "        x = x.view(-1, 125 * 64)\n",
    "        x = self.fc1(x)\n",
    "        x = F.dropout(x, 0.4)\n",
    "        x = self.fc2(x)\n",
    "        x = F.dropout(x, 0.4)\n",
    "        x = self.fc3(x)\n",
    "        return F.softmax(x)"
   ]
  },
  {
   "cell_type": "code",
   "execution_count": null,
   "metadata": {},
   "outputs": [],
   "source": [
    "model = ConvModel(embedding_dim=32, vocab_size=len(dataset._embedder._vocabulary), seq_len=dataset.max_length)\n",
    "optimizer = torch.optim.Adam(model.parameters(),lr=0.001, weight_decay=0)\n",
    "loss_fn = torch.nn.MultiLabelMarginLoss()"
   ]
  },
  {
   "cell_type": "code",
   "execution_count": null,
   "metadata": {},
   "outputs": [],
   "source": [
    "use_cuda = torch.cuda.is_available()\n",
    "device = torch.device(\"cuda:0\" if use_cuda else \"cpu\")"
   ]
  },
  {
   "cell_type": "code",
   "execution_count": null,
   "metadata": {},
   "outputs": [],
   "source": [
    "max_epochs = 100"
   ]
  },
  {
   "cell_type": "code",
   "execution_count": null,
   "metadata": {},
   "outputs": [],
   "source": [
    "# Loop over epochs\n",
    "for epoch in range(max_epochs):\n",
    "    losses = []\n",
    "    print(f'Epoch {epoch}')\n",
    "    for i, (local_batch, local_labels) in enumerate(data_gen):\n",
    "        if i%1000 == 0:\n",
    "            print(f'Batch {i}')\n",
    "        local_batch, local_labels = local_batch.to(device), local_labels.to(device)\n",
    "        local_batch = local_batch.type(torch.LongTensor)\n",
    "        local_labels = local_labels.type(torch.LongTensor)\n",
    "        epoch_loss = 0.0\n",
    "        epoch_acc = 0.0\n",
    "        \n",
    "        predictions = model(local_batch)\n",
    "        optimizer.zero_grad()\n",
    "        loss = loss_fn(predictions, local_labels)\n",
    "        loss.backward()\n",
    "        optimizer.step()\n",
    "        losses.append(loss.mean())\n",
    "    print('[%d/%d] Loss: %.3f' % (epoch+1, max_epochs, np.mean(losses)))"
   ]
  }
 ],
 "metadata": {
  "kernelspec": {
   "display_name": "deep-learning",
   "language": "python",
   "name": "deep-learning"
  },
  "language_info": {
   "codemirror_mode": {
    "name": "ipython",
    "version": 3
   },
   "file_extension": ".py",
   "mimetype": "text/x-python",
   "name": "python",
   "nbconvert_exporter": "python",
   "pygments_lexer": "ipython3",
   "version": "3.7.0"
  }
 },
 "nbformat": 4,
 "nbformat_minor": 2
}
